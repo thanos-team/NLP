{
 "cells": [
  {
   "cell_type": "markdown",
   "metadata": {},
   "source": [
    "***In this file, we only focus on the model with 1 and 2 features; and using 6 main method to evaluate then compare them!***\n",
    "\n",
    "First, I have to note something about this part.\n",
    "\n",
    "1) In `XGBoost, AdaBoost` we fixed, (and) pick the `learning_rate` = 0.1.\n",
    "\n",
    "2) In `XGBoost, AdaBoost` and `Random Forest`; we pick the `n_estimators` = 300.\n",
    "\n",
    "3) In `XGBoost` and `RandomForest`; the `max_depth` = 3\n",
    "\n",
    "4) The study about the affects of the optimal `learning_rate, n_estimator` and `max_depth` will be considered in the next Session!\n",
    "\n",
    "5) The 3 last methodologies are `Naive Bayes, Logistic Regression & KNN`\n",
    "\n",
    "Now, we need import the following `libraries`...."
   ]
  },
  {
   "cell_type": "code",
   "execution_count": 1,
   "metadata": {},
   "outputs": [],
   "source": [
    "from numpy import loadtxt \n",
    "from sklearn.model_selection import train_test_split \n",
    "from sklearn.metrics import accuracy_score\n",
    "from sklearn.datasets import load_breast_cancer\n",
    "import nltk\n",
    "from nltk.corpus import stopwords\n",
    "import string\n",
    "import pandas as pd"
   ]
  },
  {
   "cell_type": "markdown",
   "metadata": {},
   "source": [
    "**Loading dataset**"
   ]
  },
  {
   "cell_type": "code",
   "execution_count": 2,
   "metadata": {},
   "outputs": [
    {
     "data": {
      "text/html": [
       "<div>\n",
       "<style scoped>\n",
       "    .dataframe tbody tr th:only-of-type {\n",
       "        vertical-align: middle;\n",
       "    }\n",
       "\n",
       "    .dataframe tbody tr th {\n",
       "        vertical-align: top;\n",
       "    }\n",
       "\n",
       "    .dataframe thead th {\n",
       "        text-align: right;\n",
       "    }\n",
       "</style>\n",
       "<table border=\"1\" class=\"dataframe\">\n",
       "  <thead>\n",
       "    <tr style=\"text-align: right;\">\n",
       "      <th></th>\n",
       "      <th>text</th>\n",
       "      <th>target</th>\n",
       "    </tr>\n",
       "  </thead>\n",
       "  <tbody>\n",
       "    <tr>\n",
       "      <th>0</th>\n",
       "      <td>Our Deeds are the Reason of this #earthquake M...</td>\n",
       "      <td>1</td>\n",
       "    </tr>\n",
       "    <tr>\n",
       "      <th>1</th>\n",
       "      <td>Forest fire near La Ronge Sask. Canada</td>\n",
       "      <td>1</td>\n",
       "    </tr>\n",
       "    <tr>\n",
       "      <th>2</th>\n",
       "      <td>All residents asked to 'shelter in place' are ...</td>\n",
       "      <td>1</td>\n",
       "    </tr>\n",
       "    <tr>\n",
       "      <th>3</th>\n",
       "      <td>13,000 people receive #wildfires evacuation or...</td>\n",
       "      <td>1</td>\n",
       "    </tr>\n",
       "    <tr>\n",
       "      <th>4</th>\n",
       "      <td>Just got sent this photo from Ruby #Alaska as ...</td>\n",
       "      <td>1</td>\n",
       "    </tr>\n",
       "  </tbody>\n",
       "</table>\n",
       "</div>"
      ],
      "text/plain": [
       "                                                text  target\n",
       "0  Our Deeds are the Reason of this #earthquake M...       1\n",
       "1             Forest fire near La Ronge Sask. Canada       1\n",
       "2  All residents asked to 'shelter in place' are ...       1\n",
       "3  13,000 people receive #wildfires evacuation or...       1\n",
       "4  Just got sent this photo from Ruby #Alaska as ...       1"
      ]
     },
     "execution_count": 2,
     "metadata": {},
     "output_type": "execute_result"
    }
   ],
   "source": [
    "# load data\n",
    "df = pd.read_csv(r\"train.csv\", usecols = [\"text\", \"target\"])\n",
    "df.head(5)"
   ]
  },
  {
   "cell_type": "markdown",
   "metadata": {},
   "source": [
    "***Checking null-values***"
   ]
  },
  {
   "cell_type": "code",
   "execution_count": 3,
   "metadata": {},
   "outputs": [
    {
     "name": "stdout",
     "output_type": "stream",
     "text": [
      "Index(['col_names : \\ttext', 'col_names : \\ttarget'], dtype='object')\n",
      "\n",
      "\n",
      "Data-dimensions: \t(7613, 2)\n",
      "\n",
      "\n",
      "Count the not-null values of each features: \n",
      "text      7613\n",
      "target    7613\n",
      "dtype: int64\n"
     ]
    }
   ],
   "source": [
    "print(\"col_names : \\t\" + df.columns)\n",
    "print('\\n')\n",
    "print(\"Data-dimensions: \\t\" + str(df.shape))\n",
    "print('\\n')\n",
    "print(\"Count the not-null values of each features: \\n\" + str(df.notnull().sum()))"
   ]
  },
  {
   "cell_type": "markdown",
   "metadata": {},
   "source": [
    "***Checking & removing duplications***"
   ]
  },
  {
   "cell_type": "code",
   "execution_count": 4,
   "metadata": {},
   "outputs": [
    {
     "name": "stdout",
     "output_type": "stream",
     "text": [
      "The new dimension after checking duplicate & removing is:\t(7521, 2)\n"
     ]
    }
   ],
   "source": [
    "df.drop_duplicates(inplace = True)\n",
    "print(\"The new dimension after checking duplicate & removing is:\\t\" + str(df.shape))"
   ]
  },
  {
   "cell_type": "markdown",
   "metadata": {},
   "source": [
    "***Adding variables named Text length & Number of words to get the new model***"
   ]
  },
  {
   "cell_type": "code",
   "execution_count": 5,
   "metadata": {},
   "outputs": [
    {
     "data": {
      "text/html": [
       "<div>\n",
       "<style scoped>\n",
       "    .dataframe tbody tr th:only-of-type {\n",
       "        vertical-align: middle;\n",
       "    }\n",
       "\n",
       "    .dataframe tbody tr th {\n",
       "        vertical-align: top;\n",
       "    }\n",
       "\n",
       "    .dataframe thead th {\n",
       "        text-align: right;\n",
       "    }\n",
       "</style>\n",
       "<table border=\"1\" class=\"dataframe\">\n",
       "  <thead>\n",
       "    <tr style=\"text-align: right;\">\n",
       "      <th></th>\n",
       "      <th>text</th>\n",
       "      <th>target</th>\n",
       "      <th>Text_length</th>\n",
       "      <th>Numb_words</th>\n",
       "    </tr>\n",
       "  </thead>\n",
       "  <tbody>\n",
       "    <tr>\n",
       "      <th>0</th>\n",
       "      <td>Our Deeds are the Reason of this #earthquake M...</td>\n",
       "      <td>1</td>\n",
       "      <td>69</td>\n",
       "      <td>13</td>\n",
       "    </tr>\n",
       "    <tr>\n",
       "      <th>1</th>\n",
       "      <td>Forest fire near La Ronge Sask. Canada</td>\n",
       "      <td>1</td>\n",
       "      <td>38</td>\n",
       "      <td>7</td>\n",
       "    </tr>\n",
       "    <tr>\n",
       "      <th>2</th>\n",
       "      <td>All residents asked to 'shelter in place' are ...</td>\n",
       "      <td>1</td>\n",
       "      <td>133</td>\n",
       "      <td>22</td>\n",
       "    </tr>\n",
       "    <tr>\n",
       "      <th>3</th>\n",
       "      <td>13,000 people receive #wildfires evacuation or...</td>\n",
       "      <td>1</td>\n",
       "      <td>65</td>\n",
       "      <td>8</td>\n",
       "    </tr>\n",
       "    <tr>\n",
       "      <th>4</th>\n",
       "      <td>Just got sent this photo from Ruby #Alaska as ...</td>\n",
       "      <td>1</td>\n",
       "      <td>88</td>\n",
       "      <td>16</td>\n",
       "    </tr>\n",
       "  </tbody>\n",
       "</table>\n",
       "</div>"
      ],
      "text/plain": [
       "                                                text  target  Text_length  \\\n",
       "0  Our Deeds are the Reason of this #earthquake M...       1           69   \n",
       "1             Forest fire near La Ronge Sask. Canada       1           38   \n",
       "2  All residents asked to 'shelter in place' are ...       1          133   \n",
       "3  13,000 people receive #wildfires evacuation or...       1           65   \n",
       "4  Just got sent this photo from Ruby #Alaska as ...       1           88   \n",
       "\n",
       "   Numb_words  \n",
       "0          13  \n",
       "1           7  \n",
       "2          22  \n",
       "3           8  \n",
       "4          16  "
      ]
     },
     "execution_count": 5,
     "metadata": {},
     "output_type": "execute_result"
    }
   ],
   "source": [
    "df['Text_length'] = df['text'].str.len()\n",
    "df['Numb_words'] = df['text'].str.split().map(lambda x: len(x))\n",
    "df.head()"
   ]
  },
  {
   "cell_type": "markdown",
   "metadata": {},
   "source": [
    "***Define 2 classes: Text_Selector for text-column and Number_Selector for the 2 new features***"
   ]
  },
  {
   "cell_type": "code",
   "execution_count": 6,
   "metadata": {},
   "outputs": [],
   "source": [
    "from sklearn.base import BaseEstimator, TransformerMixin\n",
    "\n",
    "class TextSelector(BaseEstimator, TransformerMixin):\n",
    "    def __init__(self, field):\n",
    "        self.field = field\n",
    "    def fit(self, X, y=None):\n",
    "        return self\n",
    "    def transform(self, X):\n",
    "        return X[self.field]\n",
    "    \n",
    "class NumberSelector(BaseEstimator, TransformerMixin):\n",
    "    def __init__(self, field):\n",
    "        self.field = field\n",
    "    def fit(self, X, y=None):\n",
    "        return self\n",
    "    def transform(self, X):\n",
    "        return X[[self.field]]"
   ]
  },
  {
   "cell_type": "markdown",
   "metadata": {},
   "source": [
    "***Define a `Tokenizer`  function***"
   ]
  },
  {
   "cell_type": "code",
   "execution_count": 7,
   "metadata": {},
   "outputs": [],
   "source": [
    "import re\n",
    "from spellchecker import SpellChecker    \n",
    "\n",
    "def Tokenizer(str_input):\n",
    "    ## 1. Remove url_link\n",
    "    remove_url = re.compile(r'https?://\\S+|www\\.\\S+').sub(r'', str_input)\n",
    "    \n",
    "    ## 2. Remove html_link\n",
    "    remove_html = re.compile(r'<.*?>').sub(r'', remove_url)\n",
    "    \n",
    "    ## 3. Remove Emojis\n",
    "    remove_emo = re.compile(\"[\"\n",
    "                           u\"\\U0001F600-\\U0001F64F\"  # emoticons\n",
    "                           u\"\\U0001F300-\\U0001F5FF\"  # symbols & pictographs\n",
    "                           u\"\\U0001F680-\\U0001F6FF\"  # transport & map symbols\n",
    "                           u\"\\U0001F1E0-\\U0001F1FF\"  # flags (iOS)\n",
    "                           u\"\\U00002702-\\U000027B0\"\n",
    "                           u\"\\U000024C2-\\U0001F251\"\n",
    "                           \"]+\", flags=re.UNICODE).sub(r'', remove_html)\n",
    "    words = re.sub(r\"[^A-Za-z0-9\\-]\", \" \", remove_emo).lower().split()    \n",
    "        \n",
    "    ## 4. spell_correction\n",
    "    # spell = SpellChecker()\n",
    "    # words = [spell.correction(word) for word in words]\n",
    "\n",
    "    return words"
   ]
  },
  {
   "cell_type": "markdown",
   "metadata": {},
   "source": [
    "***Assign X, y to train_test_split & fit the corresponding model***\n",
    "\n",
    "`We only consider 2 case: ('text' & 'numb_words') and ('text' & 'text_length')`\n",
    "\n",
    "\n",
    "***`1) Case1. Data contains 'text' & 'numb_words'`***"
   ]
  },
  {
   "cell_type": "code",
   "execution_count": 8,
   "metadata": {},
   "outputs": [],
   "source": [
    "X = df[['text', 'Numb_words']] \n",
    "y = df['target']\n",
    "test_size = 0.3"
   ]
  },
  {
   "cell_type": "markdown",
   "metadata": {},
   "source": [
    "**Split dataset into 2 parts: train & test**"
   ]
  },
  {
   "cell_type": "code",
   "execution_count": 9,
   "metadata": {},
   "outputs": [],
   "source": [
    "from sklearn.model_selection import train_test_split\n",
    "X_train, X_test, y_train, y_test = train_test_split(X, \n",
    "                                                    y, \n",
    "                                                    test_size = test_size, \n",
    "                                                    stratify = y, \n",
    "                                                    random_state = 42)"
   ]
  },
  {
   "cell_type": "markdown",
   "metadata": {},
   "source": [
    "**Import some libraries**"
   ]
  },
  {
   "cell_type": "code",
   "execution_count": 10,
   "metadata": {},
   "outputs": [],
   "source": [
    "from sklearn.pipeline import Pipeline, FeatureUnion\n",
    "from sklearn.feature_extraction.text import TfidfVectorizer\n",
    "from sklearn.preprocessing import StandardScaler\n",
    "from sklearn.decomposition import TruncatedSVD\n",
    "from sklearn.ensemble import AdaBoostClassifier\n",
    "from nltk.corpus import stopwords\n",
    "\n",
    "stop = set(stopwords.words('english'))"
   ]
  },
  {
   "cell_type": "markdown",
   "metadata": {},
   "source": [
    "**1.1. Using AdaBoost_classifier**"
   ]
  },
  {
   "cell_type": "code",
   "execution_count": 26,
   "metadata": {},
   "outputs": [],
   "source": [
    "classifier1 = Pipeline([\n",
    "    (\n",
    "        'features', FeatureUnion([\n",
    "        ('text', Pipeline([\n",
    "            ('colext', TextSelector('text')),\n",
    "            ('tfidf', TfidfVectorizer(tokenizer = Tokenizer, stop_words = 'english',\n",
    "                     min_df = .0025, max_df = 0.25, ngram_range = (1, 3) ) ),\n",
    "            ('svd', TruncatedSVD(algorithm = 'randomized', n_components = 300) ), #for AdaBoost\n",
    "        ])),\n",
    "        ('words', Pipeline([\n",
    "            ('wordext', NumberSelector('Numb_words')),\n",
    "            ('wscaler', StandardScaler()),\n",
    "        ])),            \n",
    "    ])\n",
    "    ),\n",
    "    ('clf', AdaBoostClassifier(n_estimators = 300, learning_rate = 0.1)),\n",
    "    ])"
   ]
  },
  {
   "cell_type": "markdown",
   "metadata": {},
   "source": [
    "**Fit the model**"
   ]
  },
  {
   "cell_type": "code",
   "execution_count": 28,
   "metadata": {},
   "outputs": [
    {
     "name": "stdout",
     "output_type": "stream",
     "text": [
      "Fit&trainning time :  53.046061277389526\n"
     ]
    }
   ],
   "source": [
    "import time\n",
    "start = time.time()\n",
    "\n",
    "classifier1.fit(X_train, y_train)\n",
    "preds = classifier1.predict(X_test)\n",
    "\n",
    "print ('Fit&trainning time : ', time.time() - start)"
   ]
  },
  {
   "cell_type": "markdown",
   "metadata": {},
   "source": [
    "**Predict & accuracy**"
   ]
  },
  {
   "cell_type": "code",
   "execution_count": 29,
   "metadata": {},
   "outputs": [
    {
     "name": "stdout",
     "output_type": "stream",
     "text": [
      "Training Accuracy: 77.36%\n",
      "Testing Accuracy: 73.99%\n",
      "Precision: 0.7737226277372263\n",
      "              precision    recall  f1-score   support\n",
      "\n",
      "           0       0.73      0.88      0.80      1295\n",
      "           1       0.77      0.55      0.64       962\n",
      "\n",
      "    accuracy                           0.74      2257\n",
      "   macro avg       0.75      0.72      0.72      2257\n",
      "weighted avg       0.75      0.74      0.73      2257\n",
      "\n",
      "[[1140  155]\n",
      " [ 432  530]]\n"
     ]
    }
   ],
   "source": [
    "from sklearn.metrics import accuracy_score, precision_score, classification_report, confusion_matrix\n",
    "\n",
    "train_acc_Ada = accuracy_score(y_train, classifier1.predict(X_train)) * 100.0 \n",
    "test_acc_Ada = accuracy_score(y_test, preds) * 100\n",
    "\n",
    "print(\"Training Accuracy: %.2f%%\" % train_acc_Ada)\n",
    "print(\"Testing Accuracy: %.2f%%\" % test_acc_Ada)\n",
    "print(\"Precision:\", precision_score(y_test, preds))\n",
    "print(classification_report(y_test, preds))\n",
    "print(confusion_matrix(y_test, preds))"
   ]
  },
  {
   "cell_type": "markdown",
   "metadata": {},
   "source": [
    "**1.2. Using XGBoost_classifier**"
   ]
  },
  {
   "cell_type": "code",
   "execution_count": 40,
   "metadata": {},
   "outputs": [
    {
     "name": "stdout",
     "output_type": "stream",
     "text": [
      "Fit&trainning time :  43.873294830322266\n",
      "Training_Accuracy: 89.87%\n",
      "Testing_Accuracy: 76.65%\n",
      "Precision: 0.7777777777777778\n",
      "              precision    recall  f1-score   support\n",
      "\n",
      "           0       0.76      0.87      0.81      1295\n",
      "           1       0.78      0.63      0.70       962\n",
      "\n",
      "    accuracy                           0.77      2257\n",
      "   macro avg       0.77      0.75      0.75      2257\n",
      "weighted avg       0.77      0.77      0.76      2257\n",
      "\n",
      "[[1121  174]\n",
      " [ 353  609]]\n"
     ]
    }
   ],
   "source": [
    "from sklearn.svm import SVC\n",
    "svc = SVC(probability = True, kernel = 'linear')\n",
    "\n",
    "from xgboost import XGBClassifier \n",
    "classifier1 = Pipeline([\n",
    "    (\n",
    "        'features', FeatureUnion([\n",
    "        ('text', Pipeline([\n",
    "            ('colext', TextSelector('text')),\n",
    "            ('tfidf', TfidfVectorizer(tokenizer = Tokenizer, stop_words = 'english',\n",
    "                     min_df = .0025, max_df = 0.25, ngram_range = (1, 3) ) ),\n",
    "            ('svd', TruncatedSVD(algorithm ='randomized', n_components = 300) ), #for XGB\n",
    "        ])),\n",
    "        ('words', Pipeline([\n",
    "            ('wordext', NumberSelector('Numb_words')),\n",
    "            ('wscaler', StandardScaler()),\n",
    "        ])),            \n",
    "    ])\n",
    "    ),\n",
    "    ('clf', XGBClassifier(max_depth = 3, n_estimators = 300, base_estimator = svc, learning_rate = 0.1))\n",
    "    ])\n",
    "\n",
    "## Fit the model\n",
    "start = time.time()\n",
    "classifier1.fit(X_train, y_train)\n",
    "preds = classifier1.predict(X_test)\n",
    "print ('Fit&trainning time : ', time.time() - start)\n",
    "\n",
    "train_acc_Xgb = accuracy_score(y_train, classifier1.predict(X_train)) * 100.0 \n",
    "test_acc_Xgb = accuracy_score(y_test, preds) * 100.0\n",
    "\n",
    "print(\"Training_Accuracy: %.2f%%\" % train_acc_Xgb)\n",
    "print(\"Testing_Accuracy: %.2f%%\" % test_acc_Xgb)\n",
    "print(\"Precision:\", precision_score(y_test, preds))\n",
    "print(classification_report(y_test, preds))\n",
    "print(confusion_matrix(y_test, preds))"
   ]
  },
  {
   "cell_type": "markdown",
   "metadata": {},
   "source": [
    "**1.3. Using RandomForest_classifier**"
   ]
  },
  {
   "cell_type": "code",
   "execution_count": 41,
   "metadata": {},
   "outputs": [
    {
     "name": "stdout",
     "output_type": "stream",
     "text": [
      "Fit&trainning time :  6.828919887542725\n",
      "Training_Accuracy: 71.11%\n",
      "Testing_Accuracy: 69.03%\n",
      "Precision: 0.8168674698795181\n",
      "              precision    recall  f1-score   support\n",
      "\n",
      "           0       0.66      0.94      0.78      1295\n",
      "           1       0.82      0.35      0.49       962\n",
      "\n",
      "    accuracy                           0.69      2257\n",
      "   macro avg       0.74      0.65      0.63      2257\n",
      "weighted avg       0.73      0.69      0.66      2257\n",
      "\n",
      "[[1219   76]\n",
      " [ 623  339]]\n"
     ]
    }
   ],
   "source": [
    "from sklearn.ensemble import RandomForestClassifier\n",
    "\n",
    "classifier1 = Pipeline([\n",
    "    (\n",
    "        'features', FeatureUnion([\n",
    "        ('text', Pipeline([\n",
    "            ('colext', TextSelector('text')),\n",
    "            ('tfidf', TfidfVectorizer(tokenizer = Tokenizer, stop_words = 'english',\n",
    "                     min_df = .0025, max_df = 0.25, ngram_range = (1, 3) ) ),\n",
    "            ('svd', TruncatedSVD(algorithm ='randomized', n_components = 300) ), \n",
    "        ])),\n",
    "        ('words', Pipeline([\n",
    "            ('wordext', NumberSelector('Numb_words')),\n",
    "            ('wscaler', StandardScaler()),\n",
    "        ])),            \n",
    "    ])\n",
    "    ),\n",
    "    ('clf', RandomForestClassifier(max_depth = 3, n_estimators = 300)),\n",
    "    ])\n",
    "\n",
    "start = time.time()\n",
    "classifier1.fit(X_train, y_train)\n",
    "preds = classifier1.predict(X_test)\n",
    "print ('Fit&trainning time : ', time.time() - start)\n",
    "\n",
    "train_acc_RFC = accuracy_score(y_train, classifier1.predict(X_train)) * 100.0\n",
    "test_acc_RFC = accuracy_score(y_test, preds) * 100.0\n",
    "\n",
    "print(\"Training_Accuracy: %.2f%%\" % train_acc_RFC )\n",
    "print(\"Testing_Accuracy: %.2f%%\" % test_acc_RFC )\n",
    "print(\"Precision:\", precision_score(y_test, preds))\n",
    "print(classification_report(y_test, preds))\n",
    "print(confusion_matrix(y_test, preds))"
   ]
  },
  {
   "cell_type": "markdown",
   "metadata": {},
   "source": [
    "**1.4. Using NaiveBayes**"
   ]
  },
  {
   "cell_type": "code",
   "execution_count": 42,
   "metadata": {},
   "outputs": [
    {
     "name": "stdout",
     "output_type": "stream",
     "text": [
      "Training_Accuracy: 90.44%\n",
      "Testing_Accuracy: 79.26%\n",
      "              precision    recall  f1-score   support\n",
      "\n",
      "           0       0.80      0.86      0.83      1295\n",
      "           1       0.78      0.71      0.74       962\n",
      "\n",
      "    accuracy                           0.79      2257\n",
      "   macro avg       0.79      0.78      0.78      2257\n",
      "weighted avg       0.79      0.79      0.79      2257\n",
      "\n",
      "Confusion Matrix: \n",
      " [[1108  187]\n",
      " [ 281  681]]\n"
     ]
    }
   ],
   "source": [
    "from sklearn.feature_extraction.text import CountVectorizer\n",
    "text_process = CountVectorizer(analyzer = Tokenizer).fit_transform(df['text'])\n",
    "\n",
    "\n",
    "from sklearn.naive_bayes import MultinomialNB\n",
    "X_train, X_test, y_train, y_test = train_test_split(text_process, df['target'], \n",
    "                                                    test_size = test_size, \n",
    "                                                    stratify = df['target'], \n",
    "                                                    random_state = 42)\n",
    "\n",
    "classifier1 = MultinomialNB()\n",
    "classifier1.fit(X_train, y_train)\n",
    "preds = classifier1.predict(X_test)\n",
    "\n",
    "train_acc_NVB = accuracy_score(y_train, classifier1.predict(X_train)) * 100.0\n",
    "test_acc_NVB = accuracy_score(y_test, preds) * 100.0\n",
    "\n",
    "print(\"Training_Accuracy: %.2f%%\" % train_acc_NVB)\n",
    "print(\"Testing_Accuracy: %.2f%%\" % test_acc_NVB)\n",
    "print(classification_report(y_test, preds))\n",
    "print('Confusion Matrix: \\n',confusion_matrix(y_test, preds))"
   ]
  },
  {
   "cell_type": "markdown",
   "metadata": {},
   "source": [
    "**1.5) Using Logistic Regression**"
   ]
  },
  {
   "cell_type": "code",
   "execution_count": 43,
   "metadata": {},
   "outputs": [
    {
     "name": "stdout",
     "output_type": "stream",
     "text": [
      "Training_Accuracy: 71.14%\n",
      "Testing_Accuracy: 70.93%\n",
      "              precision    recall  f1-score   support\n",
      "\n",
      "           0       0.67      0.96      0.79      1295\n",
      "           1       0.88      0.37      0.52       962\n",
      "\n",
      "    accuracy                           0.71      2257\n",
      "   macro avg       0.78      0.67      0.66      2257\n",
      "weighted avg       0.76      0.71      0.68      2257\n",
      "\n",
      "Confusion Matrix: \n",
      " [[1248   47]\n",
      " [ 609  353]]\n"
     ]
    },
    {
     "name": "stderr",
     "output_type": "stream",
     "text": [
      "/Users/loctran/anaconda3/lib/python3.7/site-packages/sklearn/linear_model/logistic.py:432: FutureWarning: Default solver will be changed to 'lbfgs' in 0.22. Specify a solver to silence this warning.\n",
      "  FutureWarning)\n"
     ]
    }
   ],
   "source": [
    "from sklearn.linear_model import LogisticRegression\n",
    "\n",
    "X_train, X_test, y_train, y_test = train_test_split(df['text'], df['target'], \n",
    "                                                    stratify = df['target'],\n",
    "                                                    test_size = test_size, \n",
    "                                                    random_state = 42)\n",
    "\n",
    "\n",
    "# Initialize the tfidf_vectorizer \n",
    "tfidf_vectorizer = TfidfVectorizer(stop_words = 'english', max_df = 0.7) \n",
    "\n",
    "# Fit and transform the training data to Tfidf_Vec\n",
    "tfidf_train = tfidf_vectorizer.fit_transform(X_train) \n",
    "tfidf_test = tfidf_vectorizer.transform(X_test)\n",
    "\n",
    "# Fit the model\n",
    "C = 0.1\n",
    "classifier1 = LogisticRegression(random_state = 42, C = C).fit(tfidf_train, y_train)\n",
    "\n",
    "preds = classifier1.predict(tfidf_test)\n",
    "\n",
    "train_acc_logreg = accuracy_score(y_train, classifier1.predict(tfidf_train)) * 100.0\n",
    "test_acc_logreg = accuracy_score(y_test, preds) * 100.0\n",
    "\n",
    "print(\"Training_Accuracy: %.2f%%\" % train_acc_logreg)\n",
    "print(\"Testing_Accuracy: %.2f%%\" % test_acc_logreg)\n",
    "print(classification_report(y_test, preds))\n",
    "print('Confusion Matrix: \\n', confusion_matrix(y_test, preds))"
   ]
  },
  {
   "cell_type": "markdown",
   "metadata": {},
   "source": [
    "**1.6) Using KNN**"
   ]
  },
  {
   "cell_type": "code",
   "execution_count": 46,
   "metadata": {},
   "outputs": [
    {
     "name": "stdout",
     "output_type": "stream",
     "text": [
      "CPU times: user 2 µs, sys: 0 ns, total: 2 µs\n",
      "Wall time: 6.2 µs\n",
      "Training_Accuracy: 78.38%\n",
      "Testing_Accuracy: 76.92%\n",
      "              precision    recall  f1-score   support\n",
      "\n",
      "           0       0.76      0.88      0.81      1295\n",
      "           1       0.80      0.62      0.69       962\n",
      "\n",
      "    accuracy                           0.77      2257\n",
      "   macro avg       0.78      0.75      0.75      2257\n",
      "weighted avg       0.77      0.77      0.76      2257\n",
      "\n",
      "Confusion Matrix: \n",
      " [[1143  152]\n",
      " [ 369  593]]\n"
     ]
    }
   ],
   "source": [
    "%time\n",
    "from sklearn.neighbors import KNeighborsClassifier\n",
    "\n",
    "knn = KNeighborsClassifier(n_neighbors = 100)\n",
    "classifier1 = knn.fit(tfidf_train, y_train)\n",
    "\n",
    "preds = knn.predict(tfidf_test)\n",
    "\n",
    "train_acc_knn = accuracy_score(y_train, knn.predict(tfidf_train)) * 100.0\n",
    "test_acc_knn = accuracy_score(y_test, preds) * 100.0\n",
    "\n",
    "print(\"Training_Accuracy: %.2f%%\" % train_acc_knn)\n",
    "print(\"Testing_Accuracy: %.2f%%\" % test_acc_knn)\n",
    "print(classification_report(y_test, preds))\n",
    "print('Confusion Matrix: \\n', confusion_matrix(y_test, preds))"
   ]
  },
  {
   "cell_type": "markdown",
   "metadata": {},
   "source": [
    "**Summary 1.** With the model contains 2 features `'text'` and `'number of words'`"
   ]
  },
  {
   "cell_type": "code",
   "execution_count": 47,
   "metadata": {},
   "outputs": [
    {
     "data": {
      "text/html": [
       "<div>\n",
       "<style scoped>\n",
       "    .dataframe tbody tr th:only-of-type {\n",
       "        vertical-align: middle;\n",
       "    }\n",
       "\n",
       "    .dataframe tbody tr th {\n",
       "        vertical-align: top;\n",
       "    }\n",
       "\n",
       "    .dataframe thead th {\n",
       "        text-align: right;\n",
       "    }\n",
       "</style>\n",
       "<table border=\"1\" class=\"dataframe\">\n",
       "  <thead>\n",
       "    <tr style=\"text-align: right;\">\n",
       "      <th></th>\n",
       "      <th>train_acc(%)</th>\n",
       "      <th>test_acc(%)</th>\n",
       "      <th>used_method</th>\n",
       "    </tr>\n",
       "  </thead>\n",
       "  <tbody>\n",
       "    <tr>\n",
       "      <td>0</td>\n",
       "      <td>77.355623</td>\n",
       "      <td>73.992025</td>\n",
       "      <td>AdaBoost</td>\n",
       "    </tr>\n",
       "    <tr>\n",
       "      <td>1</td>\n",
       "      <td>89.874620</td>\n",
       "      <td>76.650421</td>\n",
       "      <td>XGBoost</td>\n",
       "    </tr>\n",
       "    <tr>\n",
       "      <td>2</td>\n",
       "      <td>71.105623</td>\n",
       "      <td>69.029685</td>\n",
       "      <td>RandomForest</td>\n",
       "    </tr>\n",
       "    <tr>\n",
       "      <td>3</td>\n",
       "      <td>90.444529</td>\n",
       "      <td>79.264510</td>\n",
       "      <td>Naive_Bayes</td>\n",
       "    </tr>\n",
       "    <tr>\n",
       "      <td>4</td>\n",
       "      <td>71.143617</td>\n",
       "      <td>70.934869</td>\n",
       "      <td>Logistic_Regression</td>\n",
       "    </tr>\n",
       "    <tr>\n",
       "      <td>5</td>\n",
       "      <td>78.381459</td>\n",
       "      <td>76.916261</td>\n",
       "      <td>k-NN</td>\n",
       "    </tr>\n",
       "  </tbody>\n",
       "</table>\n",
       "</div>"
      ],
      "text/plain": [
       "   train_acc(%)  test_acc(%)          used_method\n",
       "0     77.355623    73.992025             AdaBoost\n",
       "1     89.874620    76.650421              XGBoost\n",
       "2     71.105623    69.029685         RandomForest\n",
       "3     90.444529    79.264510          Naive_Bayes\n",
       "4     71.143617    70.934869  Logistic_Regression\n",
       "5     78.381459    76.916261                 k-NN"
      ]
     },
     "execution_count": 47,
     "metadata": {},
     "output_type": "execute_result"
    }
   ],
   "source": [
    "train_acc = [train_acc_Ada, train_acc_Xgb, train_acc_RFC, train_acc_NVB, train_acc_logreg, train_acc_knn]\n",
    "test_acc = [test_acc_Ada, test_acc_Xgb, test_acc_RFC, test_acc_NVB, test_acc_logreg, test_acc_knn]\n",
    "method = ['AdaBoost', 'XGBoost', 'RandomForest', 'Naive_Bayes', 'Logistic_Regression', 'k-NN']\n",
    "\n",
    "model1 = pd.DataFrame({'train_acc(%)': train_acc,\n",
    "                       'test_acc(%)' : test_acc,\n",
    "                       'used_method': method})\n",
    "model1"
   ]
  },
  {
   "cell_type": "markdown",
   "metadata": {},
   "source": [
    "**`2) Case2. Data contains 'text' & 'text_length'`**\n",
    "\n",
    "`So the first step in this case is assign X, y again to the new columns_names`"
   ]
  },
  {
   "cell_type": "code",
   "execution_count": 48,
   "metadata": {},
   "outputs": [],
   "source": [
    "X = df[['text', 'Text_length']] \n",
    "y = df['target']\n",
    "\n",
    "from sklearn.model_selection import train_test_split\n",
    "\n",
    "X_train, X_test, y_train, y_test = train_test_split(X, \n",
    "                                                    y, \n",
    "                                                    test_size = 0.20, \n",
    "                                                    stratify = y, \n",
    "                                                    random_state = 42)"
   ]
  },
  {
   "cell_type": "markdown",
   "metadata": {},
   "source": [
    "**2.1. AdaBoost**"
   ]
  },
  {
   "cell_type": "code",
   "execution_count": 49,
   "metadata": {},
   "outputs": [
    {
     "name": "stdout",
     "output_type": "stream",
     "text": [
      "Fit&trainning time :  61.38667297363281\n",
      "Training_Accuracy: 69.55%\n",
      "Testing_Accuracy: 68.37%\n",
      "Precision: 0.718421052631579\n",
      "              precision    recall  f1-score   support\n",
      "\n",
      "           0       0.67      0.88      0.76       863\n",
      "           1       0.72      0.43      0.53       642\n",
      "\n",
      "    accuracy                           0.68      1505\n",
      "   macro avg       0.70      0.65      0.65      1505\n",
      "weighted avg       0.69      0.68      0.66      1505\n",
      "\n",
      "[[756 107]\n",
      " [369 273]]\n"
     ]
    }
   ],
   "source": [
    "classifier2 = Pipeline([\n",
    "    (\n",
    "        'features', FeatureUnion([\n",
    "        ('text', Pipeline([\n",
    "            ('colext', TextSelector('text')),\n",
    "            ('tfidf', TfidfVectorizer(tokenizer = Tokenizer, stop_words = 'english',\n",
    "                     min_df = .0025, max_df = 0.25, ngram_range = (1, 3) ) ),\n",
    "            ('svd', TruncatedSVD(algorithm ='randomized', n_components = 300) ), \n",
    "        ])),\n",
    "        ('words', Pipeline([\n",
    "            ('wordext', NumberSelector('Text_length')),\n",
    "            ('wscaler', StandardScaler()),\n",
    "        ])),            \n",
    "    ])\n",
    "    ),\n",
    "    ('clf', AdaBoostClassifier(n_estimators = 300, learning_rate = 0.01)),\n",
    "    ])\n",
    "\n",
    "start = time.time()\n",
    "classifier2.fit(X_train, y_train)\n",
    "preds = classifier2.predict(X_test)\n",
    "print('Fit&trainning time : ', time.time() - start)\n",
    "\n",
    "train_acc_Ada2 = accuracy_score(y_train, classifier2.predict(X_train)) * 100.0\n",
    "test_acc_Ada2 = accuracy_score(y_test, preds) * 100.0\n",
    "\n",
    "print(\"Training_Accuracy: %.2f%%\" % train_acc_Ada2)\n",
    "print(\"Testing_Accuracy: %.2f%%\" % test_acc_Ada2)\n",
    "print(\"Precision:\", precision_score(y_test, preds))\n",
    "print(classification_report(y_test, preds))\n",
    "print(confusion_matrix(y_test, preds))"
   ]
  },
  {
   "cell_type": "markdown",
   "metadata": {},
   "source": [
    "**2.2. XGBoost**"
   ]
  },
  {
   "cell_type": "code",
   "execution_count": 50,
   "metadata": {},
   "outputs": [
    {
     "name": "stdout",
     "output_type": "stream",
     "text": [
      "CPU times: user 2 µs, sys: 0 ns, total: 2 µs\n",
      "Wall time: 5.01 µs\n",
      "Fit&trainning time :  51.36156702041626\n",
      "Training_Accuracy: 89.11%\n",
      "Testing_Accuracy: 77.74%\n",
      "Precision: 0.7806215722120659\n",
      "              precision    recall  f1-score   support\n",
      "\n",
      "           0       0.78      0.86      0.82       863\n",
      "           1       0.78      0.67      0.72       642\n",
      "\n",
      "    accuracy                           0.78      1505\n",
      "   macro avg       0.78      0.76      0.77      1505\n",
      "weighted avg       0.78      0.78      0.77      1505\n",
      "\n",
      "[[743 120]\n",
      " [215 427]]\n"
     ]
    }
   ],
   "source": [
    "from sklearn.svm import SVC\n",
    "svc = SVC(probability = True, kernel = 'linear')\n",
    "\n",
    "from xgboost import XGBClassifier \n",
    "classifier2 = Pipeline([\n",
    "    (\n",
    "        'features', FeatureUnion([\n",
    "        ('text', Pipeline([\n",
    "            ('colext', TextSelector('text')),\n",
    "            ('tfidf', TfidfVectorizer(tokenizer = Tokenizer, stop_words = 'english',\n",
    "                     min_df = .0025, max_df = 0.25, ngram_range = (1, 3) ) ),\n",
    "            ('svd', TruncatedSVD(algorithm ='randomized', n_components = 300) ), #for XGB\n",
    "        ])),\n",
    "        ('words', Pipeline([\n",
    "            ('wordext', NumberSelector('Text_length')),\n",
    "            ('wscaler', StandardScaler()),\n",
    "        ])),            \n",
    "    ])\n",
    "    ),\n",
    "    ('clf', XGBClassifier(max_depth = 3, n_estimators = 300, base_estimator = svc, learning_rate = 0.1))\n",
    "    ])\n",
    "\n",
    "## Fit the model\n",
    "start = time.time()\n",
    "classifier2.fit(X_train, y_train)\n",
    "preds = classifier2.predict(X_test)\n",
    "print ('Fit&trainning time : ', time.time() - start)\n",
    "\n",
    "train_acc_Xgb2 = accuracy_score(y_train, classifier2.predict(X_train)) * 100.0 \n",
    "test_acc_Xgb2 = accuracy_score(y_test, preds) * 100.0\n",
    "\n",
    "print(\"Training_Accuracy: %.2f%%\" % train_acc_Xgb2)\n",
    "print(\"Testing_Accuracy: %.2f%%\" % test_acc_Xgb2)\n",
    "print(\"Precision:\", precision_score(y_test, preds))\n",
    "print(classification_report(y_test, preds))\n",
    "print(confusion_matrix(y_test, preds))"
   ]
  },
  {
   "cell_type": "markdown",
   "metadata": {},
   "source": [
    "**2.3. Random Forest**"
   ]
  },
  {
   "cell_type": "code",
   "execution_count": 51,
   "metadata": {},
   "outputs": [
    {
     "name": "stdout",
     "output_type": "stream",
     "text": [
      "Fit&trainning time :  7.723005056381226\n",
      "Training_Accuracy: 72.32%\n",
      "Testing_Accuracy: 71.30%\n",
      "Precision: 0.8322784810126582\n",
      "              precision    recall  f1-score   support\n",
      "\n",
      "           0       0.68      0.94      0.79       863\n",
      "           1       0.83      0.41      0.55       642\n",
      "\n",
      "    accuracy                           0.71      1505\n",
      "   macro avg       0.76      0.67      0.67      1505\n",
      "weighted avg       0.75      0.71      0.69      1505\n",
      "\n",
      "[[810  53]\n",
      " [379 263]]\n"
     ]
    }
   ],
   "source": [
    "from sklearn.ensemble import RandomForestClassifier\n",
    "\n",
    "classifier2 = Pipeline([\n",
    "    (\n",
    "        'features', FeatureUnion([\n",
    "        ('text', Pipeline([\n",
    "            ('colext', TextSelector('text')),\n",
    "            ('tfidf', TfidfVectorizer(tokenizer = Tokenizer, stop_words = 'english',\n",
    "                     min_df = .0025, max_df = 0.25, ngram_range = (1, 3) ) ),\n",
    "            ('svd', TruncatedSVD(algorithm ='randomized', n_components = 300) ), \n",
    "        ])),\n",
    "        ('words', Pipeline([\n",
    "            ('wordext', NumberSelector('Text_length')),\n",
    "            ('wscaler', StandardScaler()),\n",
    "        ])),            \n",
    "    ])\n",
    "    ),\n",
    "    ('clf', RandomForestClassifier(max_depth = 3, n_estimators = 300)),\n",
    "    ])\n",
    "\n",
    "start = time.time()\n",
    "classifier2.fit(X_train, y_train)\n",
    "preds = classifier2.predict(X_test)\n",
    "print ('Fit&trainning time : ', time.time() - start)\n",
    "\n",
    "train_acc_RFC2 = accuracy_score(y_train, classifier2.predict(X_train)) * 100.0\n",
    "test_acc_RFC2 = accuracy_score(y_test, preds) * 100.0\n",
    "\n",
    "print(\"Training_Accuracy: %.2f%%\" % train_acc_RFC2 )\n",
    "print(\"Testing_Accuracy: %.2f%%\" % test_acc_RFC2 )\n",
    "print(\"Precision:\", precision_score(y_test, preds))\n",
    "print(classification_report(y_test, preds))\n",
    "print(confusion_matrix(y_test, preds))"
   ]
  },
  {
   "cell_type": "markdown",
   "metadata": {},
   "source": [
    "Noting that in 3 last methods (`NaiveBayes, Logistic Regression & K nearest neighbor`); we only consider only the `'text'` feature and ignored `'numb_words'` also `'text_length'`"
   ]
  },
  {
   "cell_type": "code",
   "execution_count": 52,
   "metadata": {},
   "outputs": [
    {
     "data": {
      "text/html": [
       "<div>\n",
       "<style scoped>\n",
       "    .dataframe tbody tr th:only-of-type {\n",
       "        vertical-align: middle;\n",
       "    }\n",
       "\n",
       "    .dataframe tbody tr th {\n",
       "        vertical-align: top;\n",
       "    }\n",
       "\n",
       "    .dataframe thead th {\n",
       "        text-align: right;\n",
       "    }\n",
       "</style>\n",
       "<table border=\"1\" class=\"dataframe\">\n",
       "  <thead>\n",
       "    <tr style=\"text-align: right;\">\n",
       "      <th></th>\n",
       "      <th>train_acc(%)</th>\n",
       "      <th>test_acc(%)</th>\n",
       "      <th>used_method</th>\n",
       "    </tr>\n",
       "  </thead>\n",
       "  <tbody>\n",
       "    <tr>\n",
       "      <td>0</td>\n",
       "      <td>69.547872</td>\n",
       "      <td>68.372093</td>\n",
       "      <td>AdaBoost</td>\n",
       "    </tr>\n",
       "    <tr>\n",
       "      <td>1</td>\n",
       "      <td>89.112367</td>\n",
       "      <td>77.740864</td>\n",
       "      <td>XGBoost</td>\n",
       "    </tr>\n",
       "    <tr>\n",
       "      <td>2</td>\n",
       "      <td>72.323803</td>\n",
       "      <td>71.295681</td>\n",
       "      <td>RandomForest</td>\n",
       "    </tr>\n",
       "    <tr>\n",
       "      <td>3</td>\n",
       "      <td>90.444529</td>\n",
       "      <td>79.264510</td>\n",
       "      <td>Naive_Bayes</td>\n",
       "    </tr>\n",
       "    <tr>\n",
       "      <td>4</td>\n",
       "      <td>71.143617</td>\n",
       "      <td>70.934869</td>\n",
       "      <td>Logistic_Regression</td>\n",
       "    </tr>\n",
       "    <tr>\n",
       "      <td>5</td>\n",
       "      <td>78.381459</td>\n",
       "      <td>76.916261</td>\n",
       "      <td>k-NN</td>\n",
       "    </tr>\n",
       "  </tbody>\n",
       "</table>\n",
       "</div>"
      ],
      "text/plain": [
       "   train_acc(%)  test_acc(%)          used_method\n",
       "0     69.547872    68.372093             AdaBoost\n",
       "1     89.112367    77.740864              XGBoost\n",
       "2     72.323803    71.295681         RandomForest\n",
       "3     90.444529    79.264510          Naive_Bayes\n",
       "4     71.143617    70.934869  Logistic_Regression\n",
       "5     78.381459    76.916261                 k-NN"
      ]
     },
     "execution_count": 52,
     "metadata": {},
     "output_type": "execute_result"
    }
   ],
   "source": [
    "train_acc = [train_acc_Ada2, train_acc_Xgb2, train_acc_RFC2, train_acc_NVB, train_acc_logreg, train_acc_knn]\n",
    "test_acc = [test_acc_Ada2, test_acc_Xgb2, test_acc_RFC2, test_acc_NVB, test_acc_logreg, test_acc_knn]\n",
    "method = ['AdaBoost', 'XGBoost', 'RandomForest', 'Naive_Bayes', 'Logistic_Regression', 'k-NN']\n",
    "\n",
    "model2 = pd.DataFrame({'train_acc(%)': train_acc,\n",
    "                       'test_acc(%)' : test_acc,\n",
    "                       'used_method': method})\n",
    "model2"
   ]
  },
  {
   "cell_type": "markdown",
   "metadata": {},
   "source": [
    "# Deep Learning"
   ]
  },
  {
   "cell_type": "code",
   "execution_count": 59,
   "metadata": {},
   "outputs": [
    {
     "name": "stdout",
     "output_type": "stream",
     "text": [
      "Correct version of Tensorflow installed.\n"
     ]
    }
   ],
   "source": [
    "# First we import the required libraries\n",
    "\n",
    "import tensorflow as tf\n",
    "import random\n",
    "import numpy as np\n",
    "import pandas as pd\n",
    "import matplotlib.image  as mpimg\n",
    "import matplotlib.pyplot as plt\n",
    "import io\n",
    "\n",
    "from sklearn.model_selection import train_test_split\n",
    "from sklearn.utils import shuffle\n",
    "from tensorflow.keras.preprocessing.text import Tokenizer\n",
    "from tensorflow.keras.preprocessing.sequence import pad_sequences\n",
    "from tensorflow.keras.utils import to_categorical\n",
    "from tensorflow.keras import regularizers\n",
    "from tensorflow.keras import backend as K \n",
    "K.clear_session()\n",
    "\n",
    "# Check tensorflow version\n",
    "if float(tf.__version__[0]) < 2.0:\n",
    "  print('Updating tensorflow')\n",
    "  !pip install tensorflow==2.0\n",
    "else:\n",
    "  print('Correct version of Tensorflow installed.')"
   ]
  },
  {
   "cell_type": "code",
   "execution_count": 50,
   "metadata": {},
   "outputs": [
    {
     "data": {
      "text/html": [
       "<div>\n",
       "<style scoped>\n",
       "    .dataframe tbody tr th:only-of-type {\n",
       "        vertical-align: middle;\n",
       "    }\n",
       "\n",
       "    .dataframe tbody tr th {\n",
       "        vertical-align: top;\n",
       "    }\n",
       "\n",
       "    .dataframe thead th {\n",
       "        text-align: right;\n",
       "    }\n",
       "</style>\n",
       "<table border=\"1\" class=\"dataframe\">\n",
       "  <thead>\n",
       "    <tr style=\"text-align: right;\">\n",
       "      <th></th>\n",
       "      <th>id</th>\n",
       "      <th>keyword</th>\n",
       "      <th>location</th>\n",
       "      <th>text</th>\n",
       "      <th>target</th>\n",
       "    </tr>\n",
       "  </thead>\n",
       "  <tbody>\n",
       "    <tr>\n",
       "      <th>0</th>\n",
       "      <td>1</td>\n",
       "      <td>NaN</td>\n",
       "      <td>NaN</td>\n",
       "      <td>Our Deeds are the Reason of this #earthquake M...</td>\n",
       "      <td>1</td>\n",
       "    </tr>\n",
       "    <tr>\n",
       "      <th>1</th>\n",
       "      <td>4</td>\n",
       "      <td>NaN</td>\n",
       "      <td>NaN</td>\n",
       "      <td>Forest fire near La Ronge Sask. Canada</td>\n",
       "      <td>1</td>\n",
       "    </tr>\n",
       "    <tr>\n",
       "      <th>2</th>\n",
       "      <td>5</td>\n",
       "      <td>NaN</td>\n",
       "      <td>NaN</td>\n",
       "      <td>All residents asked to 'shelter in place' are ...</td>\n",
       "      <td>1</td>\n",
       "    </tr>\n",
       "    <tr>\n",
       "      <th>3</th>\n",
       "      <td>6</td>\n",
       "      <td>NaN</td>\n",
       "      <td>NaN</td>\n",
       "      <td>13,000 people receive #wildfires evacuation or...</td>\n",
       "      <td>1</td>\n",
       "    </tr>\n",
       "    <tr>\n",
       "      <th>4</th>\n",
       "      <td>7</td>\n",
       "      <td>NaN</td>\n",
       "      <td>NaN</td>\n",
       "      <td>Just got sent this photo from Ruby #Alaska as ...</td>\n",
       "      <td>1</td>\n",
       "    </tr>\n",
       "  </tbody>\n",
       "</table>\n",
       "</div>"
      ],
      "text/plain": [
       "   id keyword location                                               text  \\\n",
       "0   1     NaN      NaN  Our Deeds are the Reason of this #earthquake M...   \n",
       "1   4     NaN      NaN             Forest fire near La Ronge Sask. Canada   \n",
       "2   5     NaN      NaN  All residents asked to 'shelter in place' are ...   \n",
       "3   6     NaN      NaN  13,000 people receive #wildfires evacuation or...   \n",
       "4   7     NaN      NaN  Just got sent this photo from Ruby #Alaska as ...   \n",
       "\n",
       "   target  \n",
       "0       1  \n",
       "1       1  \n",
       "2       1  \n",
       "3       1  \n",
       "4       1  "
      ]
     },
     "execution_count": 50,
     "metadata": {},
     "output_type": "execute_result"
    }
   ],
   "source": [
    "import pandas as pd\n",
    "df = pd.read_csv('train.csv')\n",
    "df.head()"
   ]
  },
  {
   "cell_type": "code",
   "execution_count": 51,
   "metadata": {},
   "outputs": [],
   "source": [
    "import nltk\n",
    "import string\n",
    "import re\n",
    "ps = nltk.PorterStemmer()\n",
    "stopwords = nltk.corpus.stopwords.words('english')\n",
    "def clean_text_NGram(text):\n",
    "    text = \"\".join([word.lower() for word in text if word not in string.punctuation])\n",
    "    token = re.split('\\W+',text)\n",
    "    text = \" \".join([ps.stem(word) for word in token if word not in stopwords])\n",
    "    return text"
   ]
  },
  {
   "cell_type": "code",
   "execution_count": 52,
   "metadata": {},
   "outputs": [
    {
     "data": {
      "text/html": [
       "<div>\n",
       "<style scoped>\n",
       "    .dataframe tbody tr th:only-of-type {\n",
       "        vertical-align: middle;\n",
       "    }\n",
       "\n",
       "    .dataframe tbody tr th {\n",
       "        vertical-align: top;\n",
       "    }\n",
       "\n",
       "    .dataframe thead th {\n",
       "        text-align: right;\n",
       "    }\n",
       "</style>\n",
       "<table border=\"1\" class=\"dataframe\">\n",
       "  <thead>\n",
       "    <tr style=\"text-align: right;\">\n",
       "      <th></th>\n",
       "      <th>id</th>\n",
       "      <th>keyword</th>\n",
       "      <th>location</th>\n",
       "      <th>text</th>\n",
       "      <th>target</th>\n",
       "      <th>cleaned_text_NGram</th>\n",
       "    </tr>\n",
       "  </thead>\n",
       "  <tbody>\n",
       "    <tr>\n",
       "      <th>0</th>\n",
       "      <td>1</td>\n",
       "      <td>NaN</td>\n",
       "      <td>NaN</td>\n",
       "      <td>Our Deeds are the Reason of this #earthquake M...</td>\n",
       "      <td>1</td>\n",
       "      <td>deed reason earthquak may allah forgiv us</td>\n",
       "    </tr>\n",
       "    <tr>\n",
       "      <th>1</th>\n",
       "      <td>4</td>\n",
       "      <td>NaN</td>\n",
       "      <td>NaN</td>\n",
       "      <td>Forest fire near La Ronge Sask. Canada</td>\n",
       "      <td>1</td>\n",
       "      <td>forest fire near la rong sask canada</td>\n",
       "    </tr>\n",
       "    <tr>\n",
       "      <th>2</th>\n",
       "      <td>5</td>\n",
       "      <td>NaN</td>\n",
       "      <td>NaN</td>\n",
       "      <td>All residents asked to 'shelter in place' are ...</td>\n",
       "      <td>1</td>\n",
       "      <td>resid ask shelter place notifi offic evacu she...</td>\n",
       "    </tr>\n",
       "    <tr>\n",
       "      <th>3</th>\n",
       "      <td>6</td>\n",
       "      <td>NaN</td>\n",
       "      <td>NaN</td>\n",
       "      <td>13,000 people receive #wildfires evacuation or...</td>\n",
       "      <td>1</td>\n",
       "      <td>13000 peopl receiv wildfir evacu order califor...</td>\n",
       "    </tr>\n",
       "    <tr>\n",
       "      <th>4</th>\n",
       "      <td>7</td>\n",
       "      <td>NaN</td>\n",
       "      <td>NaN</td>\n",
       "      <td>Just got sent this photo from Ruby #Alaska as ...</td>\n",
       "      <td>1</td>\n",
       "      <td>got sent photo rubi alaska smoke wildfir pour ...</td>\n",
       "    </tr>\n",
       "  </tbody>\n",
       "</table>\n",
       "</div>"
      ],
      "text/plain": [
       "   id keyword location                                               text  \\\n",
       "0   1     NaN      NaN  Our Deeds are the Reason of this #earthquake M...   \n",
       "1   4     NaN      NaN             Forest fire near La Ronge Sask. Canada   \n",
       "2   5     NaN      NaN  All residents asked to 'shelter in place' are ...   \n",
       "3   6     NaN      NaN  13,000 people receive #wildfires evacuation or...   \n",
       "4   7     NaN      NaN  Just got sent this photo from Ruby #Alaska as ...   \n",
       "\n",
       "   target                                 cleaned_text_NGram  \n",
       "0       1          deed reason earthquak may allah forgiv us  \n",
       "1       1               forest fire near la rong sask canada  \n",
       "2       1  resid ask shelter place notifi offic evacu she...  \n",
       "3       1  13000 peopl receiv wildfir evacu order califor...  \n",
       "4       1  got sent photo rubi alaska smoke wildfir pour ...  "
      ]
     },
     "execution_count": 52,
     "metadata": {},
     "output_type": "execute_result"
    }
   ],
   "source": [
    "df['cleaned_text_NGram']= df['text'].apply(lambda x: clean_text_NGram(x))\n",
    "df.head()"
   ]
  },
  {
   "cell_type": "code",
   "execution_count": 53,
   "metadata": {},
   "outputs": [
    {
     "name": "stdout",
     "output_type": "stream",
     "text": [
      "22700\n"
     ]
    }
   ],
   "source": [
    "# Tokenize text\n",
    "from sklearn.utils import shuffle\n",
    "df = shuffle(df)\n",
    "tokenizer = Tokenizer()\n",
    "tokenizer.fit_on_texts(df['text'])\n",
    "word_index = tokenizer.word_index\n",
    "\n",
    "vocab_size=len(word_index)\n",
    "print(vocab_size)\n",
    "#word_index.items()"
   ]
  },
  {
   "cell_type": "code",
   "execution_count": 54,
   "metadata": {},
   "outputs": [
    {
     "name": "stdout",
     "output_type": "stream",
     "text": [
      "All residents asked to 'shelter in place' are being notified by officers. No other evacuation or shelter in place orders are expected\n"
     ]
    },
    {
     "data": {
      "text/plain": [
       "962     122\n",
       "3833    115\n",
       "1572     63\n",
       "6701    122\n",
       "1917    116\n",
       "Name: text_len, dtype: int64"
      ]
     },
     "execution_count": 54,
     "metadata": {},
     "output_type": "execute_result"
    }
   ],
   "source": [
    "df['text_len'] = df['text'].apply(lambda x: len(x) - x.count(\" \"))\n",
    "print(df['text'][2])\n",
    "df['text_len'].head()"
   ]
  },
  {
   "cell_type": "code",
   "execution_count": 55,
   "metadata": {},
   "outputs": [
    {
     "name": "stdout",
     "output_type": "stream",
     "text": [
      "sequences:  [[52, 905, 594, 1106, 1107, 469, 237, 87, 358, 1221, 799, 1047, 1304, 126, 665, 3, 1, 2, 6954, 3, 1, 2, 6955], [19, 4, 6956, 75, 295, 4633, 1619, 4, 3597, 78, 1159, 9, 109, 595, 17, 170, 378, 89, 2158], [3598, 11, 619, 32, 147, 4634, 3599, 56, 4635, 10, 157, 7, 305, 96, 5, 500, 170], [3600, 68, 96, 29, 13, 6957, 29, 296, 35, 306, 18, 3601, 4, 2453, 36, 223, 13, 4, 1404, 278, 992, 32, 161, 17, 181, 3, 1, 2, 6958], [6959, 1620, 31, 4636, 156, 470, 620, 422, 82, 171, 86, 1933, 82, 2921, 158, 196, 8, 620, 95, 714, 738, 950, 8, 111, 715]]\n",
      "padded:  [[  52  905  594 1106 1107  469  237   87  358 1221  799 1047 1304  126\n",
      "   665    3    1    2 6954    3    1    2 6955    0    0    0    0    0\n",
      "     0    0    0    0]\n",
      " [  19    4 6956   75  295 4633 1619    4 3597   78 1159    9  109  595\n",
      "    17  170  378   89 2158    0    0    0    0    0    0    0    0    0\n",
      "     0    0    0    0]\n",
      " [3598   11  619   32  147 4634 3599   56 4635   10  157    7  305   96\n",
      "     5  500  170    0    0    0    0    0    0    0    0    0    0    0\n",
      "     0    0    0    0]\n",
      " [3600   68   96   29   13 6957   29  296   35  306   18 3601    4 2453\n",
      "    36  223   13    4 1404  278  992   32  161   17  181    3    1    2\n",
      "  6958    0    0    0]\n",
      " [6959 1620   31 4636  156  470  620  422   82  171   86 1933   82 2921\n",
      "   158  196    8  620   95  714  738  950    8  111  715    0    0    0\n",
      "     0    0    0    0]]\n"
     ]
    }
   ],
   "source": [
    "# Padding data\n",
    "\n",
    "max_len = 32\n",
    "sequences = tokenizer.texts_to_sequences(df['text'])\n",
    "padded = pad_sequences(sequences, maxlen=max_len, padding='post', truncating='post')\n",
    "print('sequences: ',sequences[0:5])\n",
    "print('padded: ',padded[0:5])"
   ]
  },
  {
   "cell_type": "code",
   "execution_count": 56,
   "metadata": {},
   "outputs": [],
   "source": [
    "split = 0.2\n",
    "split_n = int(round(len(padded)*(1-split),0))\n",
    "\n",
    "train_data = padded[:split_n]\n",
    "train_labels = df['target'].values[:split_n]\n",
    "test_data = padded[split_n:]\n",
    "test_labels = df['target'].values[split_n:]"
   ]
  },
  {
   "cell_type": "markdown",
   "metadata": {},
   "source": [
    "# Deep Learning model\n",
    "**Input instance:** $x \\in \\mathbb{N}^{32}$.  \n",
    "**The following code generates** ```embeddings_matrix``` ($E$) whose each row $\\in \\mathbb{R}^{200}$ representing one word of ```word_index```. \n",
    "\n",
    "**The embedding layer** will take this matrix as its initial weight. \n"
   ]
  },
  {
   "cell_type": "code",
   "execution_count": 58,
   "metadata": {},
   "outputs": [
    {
     "name": "stdout",
     "output_type": "stream",
     "text": [
      "200\n"
     ]
    }
   ],
   "source": [
    "# Import tensor representations for words\n",
    "embeddings_index = {};\n",
    "embedding_dim =200\n",
    "with io.open('glove.6B.200d.txt',encoding='utf8') as f:\n",
    "    for line in f:\n",
    "        values = line.split();\n",
    "        word = values[0];\n",
    "        coefs = np.asarray(values[1:], dtype='float32');\n",
    "        embeddings_index[word] = coefs;\n",
    "print(len(coefs))\n",
    "\n",
    "embeddings_matrix = np.zeros((vocab_size+1, embedding_dim));\n",
    "for word, i in word_index.items():\n",
    "    embedding_vector = embeddings_index.get(word);\n",
    "    if embedding_vector is not None:\n",
    "        embeddings_matrix[i] = embedding_vector;"
   ]
  },
  {
   "cell_type": "markdown",
   "metadata": {},
   "source": [
    "# The model (LSTM + Conv1D + MaxPooling1D + Dropout + Dense)"
   ]
  },
  {
   "cell_type": "code",
   "execution_count": 63,
   "metadata": {},
   "outputs": [],
   "source": [
    "# Build the architecture of the model\n",
    "     \n",
    "model = tf.keras.Sequential([\n",
    "     tf.keras.layers.Embedding(vocab_size+1,embedding_dim, weights=[embeddings_matrix], trainable=False),\n",
    "     tf.keras.layers.Dropout(0.2),\n",
    "     tf.keras.layers.Conv1D(64, 5, activation='relu'),\n",
    "     tf.keras.layers.MaxPooling1D(pool_size=4),\n",
    "     tf.keras.layers.LSTM(20, return_sequences=True),\n",
    "     tf.keras.layers.LSTM(20),\n",
    "     tf.keras.layers.Dropout(0.2),  \n",
    "     tf.keras.layers.Dense(512),\n",
    "     tf.keras.layers.Dropout(0.3),  \n",
    "     tf.keras.layers.Dense(256),\n",
    "     tf.keras.layers.Dense(1, activation='sigmoid')\n",
    " ])\n",
    "#from keras.regularizers import l2\n",
    "\n",
    "\n",
    "model1 = tf.keras.Sequential([\n",
    "    tf.keras.layers.Embedding(vocab_size+1, embedding_dim, input_length=max_len,weights=[embeddings_matrix], trainable=False),\n",
    "    tf.keras.layers.Bidirectional(tf.keras.layers.LSTM(16,return_sequences=True)),\n",
    "    tf.keras.layers.Bidirectional(tf.keras.layers.LSTM(8)),\n",
    "    #tf.keras.layers.Dropout(0.1),\n",
    "    tf.keras.layers.Flatten(),\n",
    "    tf.keras.layers.Dense(4, activation='relu'),\n",
    "    tf.keras.layers.Dropout(0.15),\n",
    "    tf.keras.layers.Dense(1, activation='sigmoid')\n",
    "])"
   ]
  },
  {
   "cell_type": "markdown",
   "metadata": {},
   "source": [
    "# The layers"
   ]
  },
  {
   "cell_type": "code",
   "execution_count": 65,
   "metadata": {},
   "outputs": [
    {
     "name": "stdout",
     "output_type": "stream",
     "text": [
      "Model: \"sequential_1\"\n",
      "_________________________________________________________________\n",
      "Layer (type)                 Output Shape              Param #   \n",
      "=================================================================\n",
      "embedding_1 (Embedding)      (None, None, 200)         4540200   \n",
      "_________________________________________________________________\n",
      "dropout_1 (Dropout)          (None, None, 200)         0         \n",
      "_________________________________________________________________\n",
      "conv1d (Conv1D)              (None, None, 64)          64064     \n",
      "_________________________________________________________________\n",
      "max_pooling1d (MaxPooling1D) (None, None, 64)          0         \n",
      "_________________________________________________________________\n",
      "lstm_2 (LSTM)                (None, None, 20)          6800      \n",
      "_________________________________________________________________\n",
      "lstm_3 (LSTM)                (None, 20)                3280      \n",
      "_________________________________________________________________\n",
      "dropout_2 (Dropout)          (None, 20)                0         \n",
      "_________________________________________________________________\n",
      "dense_2 (Dense)              (None, 512)               10752     \n",
      "_________________________________________________________________\n",
      "dropout_3 (Dropout)          (None, 512)               0         \n",
      "_________________________________________________________________\n",
      "dense_3 (Dense)              (None, 256)               131328    \n",
      "_________________________________________________________________\n",
      "dense_4 (Dense)              (None, 1)                 257       \n",
      "=================================================================\n",
      "Total params: 4,756,681\n",
      "Trainable params: 216,481\n",
      "Non-trainable params: 4,540,200\n",
      "_________________________________________________________________\n"
     ]
    }
   ],
   "source": [
    "model.compile(loss='binary_crossentropy',optimizer='adam',metrics=['accuracy'])\n",
    "model.summary()"
   ]
  },
  {
   "cell_type": "markdown",
   "metadata": {},
   "source": [
    "## Embedding layers:\n",
    "**Code:** \n",
    "``` python\n",
    "tf.keras.layers.Embedding(vocab_size+1, embedding_dim, input_length=max_len,weights=[embeddings_matrix], trainable=False)\n",
    "```\n",
    "\n",
    "**Notations:**\n",
    "-  our data has ```vocab_size``` (22700) number of words.\n",
    "- Each input sentence is padded into a sequence of ```max_len```(32) words.\n",
    "- Each word is embedded into a ```embedding_dim```(200) dimensional vector.\n",
    " \n",
    "**Formulation:** $$x \\in \\mathbb{N}^{32} \\to \\hat x \\to \\hat x E \\in \\mathbb{R}^{32\\times 200}$$ \n",
    "where:\n",
    "- $\\hat x \\in \\{0, 1\\}^{32\\times \\mbox{vocab_size}}$ is the **one hot** encoding of $x \\in \\mathbb{N}^{32}$. \n",
    "- $E \\in \\mathbb{R}^{\\mbox{vocab_size}\\times 200}$ is the ```embeddings_matrix```.\n",
    "\n",
    "**We don't train this layer.**\n"
   ]
  },
  {
   "cell_type": "markdown",
   "metadata": {},
   "source": [
    "## Conv1D (not included in our model)\n",
    "**Code:**\n",
    "```python\n",
    "tf.keras.layers.Conv1D(64, 5, activation='relu')\n",
    "```\n",
    "**Parameters:**\n",
    "- 64 filters\n",
    "- 5 is the kernel size (5x1)\n",
    "- by default stride = 1\n",
    "\n",
    "**Formulation:**\n",
    "$$\n",
    "x \\in \\mathbb{R}^{32 \\times 200} \\to x\\mbox{*} K_{5} \\to \\mbox{ReLU}(x\\mbox{*} K_{5}+b) \\in \\mathbb{R}^{64\\times (32 - 5 + 1)}\n",
    "$$\n",
    "where \n",
    "- $K_5$ are $64$ filters of size $5$\n",
    "- $b_i \\in \\mathbb{R}$"
   ]
  },
  {
   "cell_type": "markdown",
   "metadata": {},
   "source": [
    "## Bidirectional layer\n",
    "**Code:** \n",
    "```python\n",
    "tf.keras.layers.Bidirectional(tf.keras.layers.LSTM(16,return_sequences=True))\n",
    "```\n",
    "**parameters:**\n",
    "- ```16```: number of units of LSTM perceptrons.\n",
    "- ```return_sequences=True```: return $(y_1, y_2, ..., y_{32})$. When ```python False```, only return $y_{32}$. \n",
    "\n",
    "**Formulation of each of ```16``` units of LSTM:**\n",
    "\n",
    "- Input: $x  = (x_1, x_2, ..., x_{32})\\in \\mathbb{R}^{32x200}$.\n",
    "- Output:  $y  = (y_1, y_2, ..., y_{16})\\in \\mathbb{R}^{16}$.\n",
    "\n",
    "![image](bidirectional.png)\n",
    "\n",
    "- Algorithm:\n",
    "$$\n",
    "a = (a_1, ..., a_{32}) = LSTM_1(x)\\\\\n",
    "a' = (a'_1, ..., a'_{32}) = \\overleftarrow{LSTM_2(\\overleftarrow{x})}\\\\\n",
    "\\mbox{output} =([a_i, a_i'])_{i\\in \\{1, ..., 32 \\}} \\in \\mathbb{R}^{2\\times 32}\n",
    "%y = (y_1, ..., y_{32}) = (\\tanh(W^{[i]}_y[a_i, a'_i] + b_y^{[i]}))_{i\\in \\{1,.., 32\\}}\n",
    "$$\n"
   ]
  },
  {
   "cell_type": "markdown",
   "metadata": {},
   "source": [
    "## Dropout Layer\n",
    "**Code:**\n",
    "```python\n",
    "tf.keras.layers.Dropout(0.15)\n",
    "```\n",
    "**Parameters:**\n",
    "- ```0.15```: dropout rate \n",
    "\n",
    "**Algorithm**\n",
    "- Input: $x \\in \\mathbb{R}^4$\n",
    "- Output: $y \\in \\mathbb{R}^4$\n",
    "- Algorithm: \n",
    "$$\n",
    "y = x::R = (x_1 R_1, x_2 R_2, x_3 R_3, x_4 R_4),\n",
    "$$ \n",
    "where $R: \\Omega \\to \\{0, 1\\}^{4}$ is a random variable with $P(R_i = 0) = 0.15$. \n",
    "\n",
    "**This layer is not trainable.**\n"
   ]
  },
  {
   "cell_type": "markdown",
   "metadata": {},
   "source": [
    "## Training\n",
    "**Code**\n",
    "```python\n",
    "model.compile(loss='binary_crossentropy',optimizer='adam',metrics=['accuracy'])\n",
    "```\n",
    "\n",
    "**Binary cross-entropy loss function**\n",
    "$$\n",
    "L_i = -\\left[y_i\\ln(\\hat y_i) + (1-y_i)\\ln(1-\\hat y_i)\\right]\n",
    "$$\n",
    "\n",
    "**If we'd used weight_decay with rate ```wd```**, the loss function would have been\n",
    "$$\n",
    "L = -\\sum_i\\left[y_i\\ln(\\hat y_i) + (1-y_i)\\ln(1-\\hat y_i)\\right] + \\mbox{wd} \\sum_{w}|w|^2\n",
    "$$\n",
    "\n",
    "**Adam Optimizer**\n",
    "Detailed explainations and intuition are presented in this [post](https://towardsdatascience.com/adam-latest-trends-in-deep-learning-optimization-6be9a291375c)\n",
    "\n",
    "\\begin{align}\n",
    "   & \\beta_1 = 0.9, \\mbox{ and } \\beta_2 = 0.999\\\\\n",
    "   & g_t = \\nabla_{w} L\\\\\n",
    "   % m_0 = 0\n",
    "   & m_t = \\beta_1 * m_{t-1} + (1 - \\beta_1) * g_t\\\\\n",
    "   & v_t = \\beta_2 * v_{t-1} + (1 - \\beta_2) * |g|^2\\\\\n",
    "   & \\hat m_t = \\frac{m_{t}}{1 - \\beta_1^t}\\\\\n",
    "   & \\hat v_t = \\frac{v_{t}}{1 - \\beta_2^t}\\\\\n",
    "   & w_t = w_{t-1} - \\mbox{lr} \\frac{\\hat m_t}{\\sqrt{\\hat v_t}+ \\epsilon}\n",
    "\\end{align}"
   ]
  },
  {
   "cell_type": "code",
   "execution_count": 66,
   "metadata": {},
   "outputs": [
    {
     "name": "stdout",
     "output_type": "stream",
     "text": [
      "Train on 6090 samples, validate on 1523 samples\n",
      "Epoch 1/20\n",
      "6090/6090 [==============================] - 6s 912us/sample - loss: 0.5257 - accuracy: 0.7443 - val_loss: 0.4508 - val_accuracy: 0.7886\n",
      "Epoch 2/20\n",
      "6090/6090 [==============================] - 2s 290us/sample - loss: 0.4363 - accuracy: 0.8076 - val_loss: 0.4260 - val_accuracy: 0.8102\n",
      "Epoch 3/20\n",
      "6090/6090 [==============================] - 2s 317us/sample - loss: 0.3957 - accuracy: 0.8250 - val_loss: 0.4302 - val_accuracy: 0.8089\n",
      "Epoch 4/20\n",
      "6090/6090 [==============================] - 2s 318us/sample - loss: 0.3623 - accuracy: 0.8491 - val_loss: 0.4392 - val_accuracy: 0.8096\n",
      "Epoch 5/20\n",
      "6090/6090 [==============================] - 2s 313us/sample - loss: 0.3336 - accuracy: 0.8624 - val_loss: 0.4716 - val_accuracy: 0.8122\n",
      "Epoch 6/20\n",
      "6090/6090 [==============================] - 2s 326us/sample - loss: 0.2890 - accuracy: 0.8831 - val_loss: 0.5674 - val_accuracy: 0.7938\n",
      "Epoch 7/20\n",
      "6090/6090 [==============================] - 2s 335us/sample - loss: 0.2839 - accuracy: 0.8829 - val_loss: 0.5282 - val_accuracy: 0.8056\n",
      "Epoch 8/20\n",
      "6090/6090 [==============================] - 2s 398us/sample - loss: 0.2361 - accuracy: 0.9108 - val_loss: 0.5754 - val_accuracy: 0.8004\n",
      "Epoch 9/20\n",
      "6090/6090 [==============================] - 2s 382us/sample - loss: 0.2040 - accuracy: 0.9225 - val_loss: 0.6449 - val_accuracy: 0.7912\n",
      "Epoch 10/20\n",
      "6090/6090 [==============================] - 2s 327us/sample - loss: 0.1859 - accuracy: 0.9292 - val_loss: 0.6214 - val_accuracy: 0.7833\n",
      "Epoch 11/20\n",
      "6090/6090 [==============================] - 2s 374us/sample - loss: 0.1901 - accuracy: 0.9286 - val_loss: 0.7510 - val_accuracy: 0.8024\n",
      "Epoch 12/20\n",
      "6090/6090 [==============================] - 2s 359us/sample - loss: 0.1460 - accuracy: 0.9455 - val_loss: 0.6819 - val_accuracy: 0.7899\n",
      "Epoch 13/20\n",
      "6090/6090 [==============================] - 2s 390us/sample - loss: 0.1394 - accuracy: 0.9507 - val_loss: 0.7405 - val_accuracy: 0.7695\n",
      "Epoch 14/20\n",
      "6090/6090 [==============================] - 2s 401us/sample - loss: 0.1185 - accuracy: 0.9576 - val_loss: 0.7416 - val_accuracy: 0.7886\n",
      "Epoch 15/20\n",
      "6090/6090 [==============================] - 2s 399us/sample - loss: 0.1203 - accuracy: 0.9548 - val_loss: 0.8098 - val_accuracy: 0.7807\n",
      "Epoch 16/20\n",
      "6090/6090 [==============================] - 2s 394us/sample - loss: 0.1256 - accuracy: 0.9544 - val_loss: 0.6508 - val_accuracy: 0.8050\n",
      "Epoch 17/20\n",
      "6090/6090 [==============================] - 2s 401us/sample - loss: 0.1051 - accuracy: 0.9603 - val_loss: 0.9161 - val_accuracy: 0.7879\n",
      "Epoch 18/20\n",
      "6090/6090 [==============================] - 2s 353us/sample - loss: 0.1076 - accuracy: 0.9608 - val_loss: 0.9059 - val_accuracy: 0.7932\n",
      "Epoch 19/20\n",
      "6090/6090 [==============================] - 2s 376us/sample - loss: 0.0896 - accuracy: 0.9631 - val_loss: 0.9008 - val_accuracy: 0.7781\n",
      "Epoch 20/20\n",
      "6090/6090 [==============================] - 2s 358us/sample - loss: 0.0914 - accuracy: 0.9647 - val_loss: 0.8738 - val_accuracy: 0.7833\n",
      "Training Complete\n"
     ]
    }
   ],
   "source": [
    "history = model.fit(train_data, train_labels, epochs=20, batch_size=100, validation_data=[test_data, test_labels])\n",
    "\n",
    "print(\"Training Complete\")"
   ]
  },
  {
   "cell_type": "code",
   "execution_count": 67,
   "metadata": {},
   "outputs": [
    {
     "data": {
      "image/png": "[encoded data removed]",
      "text/plain": [
       "<Figure size 432x288 with 1 Axes>"
      ]
     },
     "metadata": {
      "needs_background": "light"
     },
     "output_type": "display_data"
    },
    {
     "data": {
      "image/png": "[encoded data removed]",
      "text/plain": [
       "<Figure size 432x288 with 1 Axes>"
      ]
     },
     "metadata": {
      "needs_background": "light"
     },
     "output_type": "display_data"
    }
   ],
   "source": [
    "# Visualize the results:\n",
    "\n",
    "plt.plot(history.history['accuracy'])\n",
    "plt.plot(history.history['val_accuracy'])\n",
    "plt.title('Model accuracy')\n",
    "plt.ylabel('Accuracy')\n",
    "plt.xlabel('Epoch')\n",
    "plt.legend(['Train', 'Test'], loc='upper left')\n",
    "plt.savefig('accuracy.png')\n",
    "plt.show()\n",
    "\n",
    "\n",
    "plt.plot(history.history['loss'])\n",
    "plt.plot(history.history['val_loss'])\n",
    "plt.title('Model loss')\n",
    "plt.ylabel('Loss')\n",
    "plt.xlabel('Epoch')\n",
    "plt.legend(['Train', 'Test'], loc='upper right')\n",
    "plt.savefig('loss.png')\n",
    "plt.show()\n"
   ]
  },
  {
   "cell_type": "markdown",
   "metadata": {},
   "source": [
    "```\n",
    "regularizers.l2(0.001) - Epoch 19/20\n",
    "6090/6090 [==============================] - 3s 461us/sample - loss: 0.3570 - accuracy: 0.8810 - val_loss: 0.4390 - val_accuracy: 0.8313\n",
    "```"
   ]
  },
  {
   "cell_type": "code",
   "execution_count": null,
   "metadata": {},
   "outputs": [],
   "source": []
  }
 ],
 "metadata": {
  "kernelspec": {
   "display_name": "Python 3",
   "language": "python",
   "name": "python3"
  },
  "language_info": {
   "codemirror_mode": {
    "name": "ipython",
    "version": 3
   },
   "file_extension": ".py",
   "mimetype": "text/x-python",
   "name": "python",
   "nbconvert_exporter": "python",
   "pygments_lexer": "ipython3",
   "version": "3.7.4"
  }
 },
 "nbformat": 4,
 "nbformat_minor": 4
}
